{
 "cells": [
  {
   "cell_type": "code",
   "execution_count": 1,
   "metadata": {
    "collapsed": true
   },
   "outputs": [],
   "source": [
    "#Qinghui Liu\n",
    "#28/08/2017\n",
    "\"\"\"\n",
    "code examples for scientific computing\n",
    "following the textbook of \"Mastering Python Scientic Computing\"\n",
    "ISBN 978-1-78328-882-3\n",
    "\"\"\"\n",
    "# problem -> Mathematicl model -> algorithm -> implementation\n",
    "# ->Results collection -> Analyze results"
   ]
  },
  {
   "cell_type": "code",
   "execution_count": 8,
   "metadata": {},
   "outputs": [
    {
     "name": "stdout",
     "output_type": "stream",
     "text": [
      "[  4   4 432]\n"
     ]
    }
   ],
   "source": [
    "# common APIs for scientic computing\n",
    "# matplotlib for 2-dimensinal chart plotting\n",
    "# numpy for large arrays, matrices, manipulating functions\n",
    "# SciPy for optimization, linear algebra, calculus, FFT, signal processing etc\n",
    "# PyTables for managing hierarchical databases on topof HDF5\n",
    "# SciKits - scikit-image, scikit-bio, scikit-learn, etc\n",
    "\n",
    "from __future__ import print_function\n",
    "\n",
    "# basic numpy code\n",
    "\n",
    "import numpy as np\n",
    "x = np.array([4,4.3,432],int) \n",
    "print (x)"
   ]
  },
  {
   "cell_type": "code",
   "execution_count": 7,
   "metadata": {},
   "outputs": [
    {
     "name": "stdout",
     "output_type": "stream",
     "text": [
      "[[1 2 3]\n",
      " [4 5 6]]\n"
     ]
    }
   ],
   "source": [
    "x2d = np.array(((1, 2, 3),(4, 5, 6)))\n",
    "print(x2d)"
   ]
  },
  {
   "cell_type": "code",
   "execution_count": 14,
   "metadata": {},
   "outputs": [
    {
     "name": "stdout",
     "output_type": "stream",
     "text": [
      "[   6.3    8.5  441.8] [    9.2    18.   4233.6] [   1.7   -0.5  422.2] [  1.73913043   0.88888889  44.08163265] [ 1.7  4.   0.8]\n"
     ]
    }
   ],
   "source": [
    "y = np.array([2.3, 4.5, 9.8])\n",
    "print(x+y,x*y, x-y, x/y, x%y)"
   ]
  },
  {
   "cell_type": "code",
   "execution_count": 19,
   "metadata": {},
   "outputs": [
    {
     "name": "stdout",
     "output_type": "stream",
     "text": [
      "array-based\n",
      " [[ 1  4]\n",
      " [ 9 16]] \n",
      " matrix-based \n",
      " [[ 7 10]\n",
      " [15 22]]\n"
     ]
    }
   ],
   "source": [
    "# array-based multiplication vs matrix-based multiplication\n",
    "x1 = np.array(((1,2),(3,4)))\n",
    "mx1 = np.matrix(((1,2),(3,4)))\n",
    "print('array-based\\n', x1*x1, '\\n matrix-based \\n',mx1*mx1)"
   ]
  },
  {
   "cell_type": "code",
   "execution_count": 23,
   "metadata": {},
   "outputs": [
    {
     "name": "stdout",
     "output_type": "stream",
     "text": [
      "[-0.40597247 -0.60266043  0.93550612] \n",
      " mean:\n",
      " -0.0243755919589 \n",
      " std:\n",
      " 0.683472126691 \n",
      " var:\n",
      " 0.467134147963\n"
     ]
    }
   ],
   "source": [
    "#random number\n",
    "xr = np.random.randn(3)\n",
    "print(xr, '\\n mean:\\n',xr.mean(),'\\n std:\\n',xr.std(),'\\n var:\\n',xr.var())"
   ]
  },
  {
   "cell_type": "code",
   "execution_count": 30,
   "metadata": {},
   "outputs": [
    {
     "name": "stdout",
     "output_type": "stream",
     "text": [
      "[ 0.37335665  0.05559068  0.9608629 ] \n",
      "minmum:0.05559 maximum:0.96086\n",
      "mean:0.46327, var:0.21094\n",
      "skewness:0.34587, kurtosis:-1.50000\n"
     ]
    }
   ],
   "source": [
    "# basic scipy code\n",
    "import scipy as sp\n",
    "import scipy.stats as st\n",
    "\n",
    "s = sp.randn(3)\n",
    "n, min_max, mean, var, skew, kurt = st.describe(s)\n",
    "print(s, \"\\nminmum:{0:3.5f} maximum:{1:2.5f}\".format(min_max[0],\n",
    "                                                     min_max[1]))\n",
    "print(\"mean:{0:3.5f}, var:{1:3.5f}\".format(mean,var))\n",
    "print(\"skewness:{0:3.5f}, kurtosis:{1:3.5f}\".format(skew,kurt))"
   ]
  },
  {
   "cell_type": "code",
   "execution_count": 33,
   "metadata": {},
   "outputs": [
    {
     "name": "stdout",
     "output_type": "stream",
     "text": [
      "Optimization terminated successfully.\n",
      "         Current function value: 0.000000\n",
      "         Iterations: 516\n",
      "         Function evaluations: 827\n",
      "[ 1.  1.  1.  1.  1.]\n"
     ]
    }
   ],
   "source": [
    "#optimization in scipy\n",
    "from scipy.optimize import minimize\n",
    "\n",
    "#definition of Rosenbrock function\n",
    "def rosenbrock(x):\n",
    "    return sum(100.0*(x[1:]-x[:-1]**2.0)**2.0 + (1-x[:-1])**2.0)\n",
    "x0 = np.array([1, 0.7, 0.8, 2.9, 1.1])\n",
    "res = minimize(rosenbrock, x0, method='nelder-mead', options={\n",
    "    'xtol':1e-8, 'disp':True})\n",
    "print(res.x)"
   ]
  },
  {
   "cell_type": "code",
   "execution_count": 5,
   "metadata": {},
   "outputs": [
    {
     "data": {
      "image/png": "[encoded data removed]",
      "text/plain": [
       "<matplotlib.figure.Figure at 0x7fd9186fa050>"
      ]
     },
     "metadata": {},
     "output_type": "display_data"
    }
   ],
   "source": [
    "# image processing with scipy\n",
    "# misc, and ndimage\n",
    "\n",
    "from scipy import misc\n",
    "#l = misc.face()\n",
    "#misc.imsave('face.png', l)\n",
    "img = misc.imread('wow.png')\n",
    "\n",
    "import matplotlib.pyplot as plt\n",
    "plt.gray()\n",
    "plt.imshow(img)\n",
    "plt.show()"
   ]
  },
  {
   "cell_type": "code",
   "execution_count": 22,
   "metadata": {},
   "outputs": [
    {
     "name": "stdout",
     "output_type": "stream",
     "text": [
      "(181, 279, 3, 'max:255', dtype('uint8'))\n"
     ]
    },
    {
     "data": {
      "image/png": "[encoded data removed]",
      "text/plain": [
       "<matplotlib.figure.Figure at 0x7fd9115b8510>"
      ]
     },
     "metadata": {},
     "output_type": "display_data"
    }
   ],
   "source": [
    "from scipy import ndimage\n",
    "\n",
    "lx, ly, c = img.shape # return h,w,channel\n",
    "print(lx, ly, c, \"max:{0}\".format(img.max()), img.dtype)\n",
    "\n",
    "cropimg = img[lx/5:-lx/5, ly/5:-ly/5]\n",
    "roimg = ndimage.rotate(img,50)\n",
    "\n",
    "plt.figure(1)\n",
    "plt.subplot(121)\n",
    "plt.imshow(cropimg)\n",
    "plt.subplot(122)\n",
    "plt.imshow(roimg)\n",
    "plt.show()"
   ]
  },
  {
   "cell_type": "code",
   "execution_count": null,
   "metadata": {
    "collapsed": true
   },
   "outputs": [],
   "source": []
  }
 ],
 "metadata": {
  "kernelspec": {
   "display_name": "Python 2",
   "language": "python",
   "name": "python2"
  },
  "language_info": {
   "codemirror_mode": {
    "name": "ipython",
    "version": 2
   },
   "file_extension": ".py",
   "mimetype": "text/x-python",
   "name": "python",
   "nbconvert_exporter": "python",
   "pygments_lexer": "ipython2",
   "version": "2.7.13"
  }
 },
 "nbformat": 4,
 "nbformat_minor": 2
}
